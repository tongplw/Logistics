{
  "cells": [
    {
      "cell_type": "code",
      "metadata": {
        "id": "e-2CwETzpPbd",
        "colab_type": "code",
        "colab": {}
      },
      "source": [
        "import pandas as pd\n",
        "from tqdm.auto import tqdm"
      ],
      "execution_count": 1,
      "outputs": []
    },
    {
      "cell_type": "code",
      "metadata": {
        "id": "HD3AvDlpppkp",
        "colab_type": "code",
        "colab": {}
      },
      "source": [
        "df = pd.read_csv('delivery_orders_march.csv')"
      ],
      "execution_count": 2,
      "outputs": []
    },
    {
      "cell_type": "code",
      "metadata": {
        "id": "8iTxzeBLqCAa",
        "colab_type": "code",
        "colab": {}
      },
      "source": [
        "df.buyeraddress = df.buyeraddress.str.split().str[-1].str.capitalize()\n",
        "df.selleraddress = df.selleraddress.str.split().str[-1].str.capitalize()"
      ],
      "execution_count": 3,
      "outputs": []
    },
    {
      "cell_type": "code",
      "metadata": {
        "id": "DfAv7MQCqC_9",
        "colab_type": "code",
        "colab": {
          "base_uri": "https://localhost:8080/",
          "height": 102
        },
        "outputId": "2e6707a0-7d14-41d7-ac23-ad27c1a1465b"
      },
      "source": [
        "df.buyeraddress.value_counts()"
      ],
      "execution_count": 4,
      "outputs": [
        {
          "output_type": "execute_result",
          "data": {
            "text/plain": "Manila      1560698\nLuzon        804888\nVisayas      479595\nMindanao     331132\nName: buyeraddress, dtype: int64"
          },
          "metadata": {},
          "execution_count": 4
        }
      ]
    },
    {
      "cell_type": "code",
      "metadata": {
        "id": "Oj3NHLTfqEA6",
        "colab_type": "code",
        "colab": {
          "base_uri": "https://localhost:8080/",
          "height": 68
        },
        "outputId": "81ce7ca4-dfd0-4d83-a1b9-1ef05fbd6d93"
      },
      "source": [
        "df.selleraddress.value_counts()"
      ],
      "execution_count": 5,
      "outputs": [
        {
          "output_type": "execute_result",
          "data": {
            "text/plain": "Manila    3176312\nLuzon           1\nName: selleraddress, dtype: int64"
          },
          "metadata": {},
          "execution_count": 5
        }
      ]
    },
    {
      "cell_type": "code",
      "metadata": {
        "id": "tU2cpiolqEtm",
        "colab_type": "code",
        "colab": {
          "base_uri": "https://localhost:8080/",
          "height": 66,
          "referenced_widgets": [
            "c9e422efab0142f5bcb88fc2803b7fb8",
            "26b0664f2a5d4f898eb5735ced969d7f",
            "2d44fa3db9694d179c04e16a7082d224",
            "43b8c37ab847448eb06a2bca8e403bd8",
            "46651f05e04d4b02958665bbf9177090",
            "40cfa25b971d493aa8c827f98d6dbf71",
            "e362c604d30e47dfb90fa17a8a9ddb99",
            "0a241a4166704930a2fe788c4672c09b"
          ]
        },
        "outputId": "e454390d-5b18-42ef-af2b-796efb625b01",
        "tags": []
      },
      "source": [
        "for col in tqdm(['pick', '1st_deliver_attempt', '2nd_deliver_attempt']):\n",
        "    df[col] = (pd.to_datetime(df[col], unit='s') + pd.DateOffset(hours=8)).dt.date"
      ],
      "execution_count": 6,
      "outputs": [
        {
          "output_type": "stream",
          "name": "stderr",
          "text": "100%|██████████| 3/3 [01:13<00:00, 24.46s/it]\n"
        }
      ]
    },
    {
      "cell_type": "code",
      "metadata": {
        "id": "HJwKf8k0qBQM",
        "colab_type": "code",
        "colab": {}
      },
      "source": [
        "matrix = {'Luzon': 5, 'Manila': 3, 'Mindanao': 7, 'Visayas': 7}"
      ],
      "execution_count": 7,
      "outputs": []
    },
    {
      "cell_type": "code",
      "metadata": {
        "id": "UMqFDrLlL1K6",
        "colab_type": "code",
        "colab": {}
      },
      "source": [
        "df['sla'] = df.apply(lambda x: matrix[x.buyeraddress], axis=1)"
      ],
      "execution_count": 8,
      "outputs": []
    },
    {
      "cell_type": "code",
      "metadata": {
        "id": "En99160IqG5L",
        "colab_type": "code",
        "colab": {
          "base_uri": "https://localhost:8080/",
          "height": 419
        },
        "outputId": "ae1c1cc4-dbf8-40da-c41a-36886a6d4a86"
      },
      "source": [
        "df"
      ],
      "execution_count": 9,
      "outputs": [
        {
          "output_type": "execute_result",
          "data": {
            "text/plain": "                orderid        pick 1st_deliver_attempt 2nd_deliver_attempt  \\\n0            2215676524  2020-03-02          2020-03-05                 NaT   \n1            2219624609  2020-03-04          2020-03-06          2020-03-10   \n2            2220979489  2020-03-04          2020-03-06                 NaT   \n3            2221066352  2020-03-05          2020-03-07                 NaT   \n4            2222478803  2020-03-04          2020-03-06                 NaT   \n...                 ...         ...                 ...                 ...   \n3176308  31504087640510  2020-04-02          2020-04-04                 NaT   \n3176309  31504147352227  2020-04-03          2020-04-06          2020-04-07   \n3176310  31504462290482  2020-04-02          2020-04-04                 NaT   \n3176311  31504851495943  2020-04-03          2020-04-07                 NaT   \n3176312  31505199116340  2020-04-02          2020-04-06          2020-04-07   \n\n        buyeraddress selleraddress  sla  \n0             Manila        Manila    3  \n1             Manila        Manila    3  \n2             Manila        Manila    3  \n3             Manila        Manila    3  \n4              Luzon        Manila    5  \n...              ...           ...  ...  \n3176308       Manila        Manila    3  \n3176309       Manila        Manila    3  \n3176310       Manila        Manila    3  \n3176311        Luzon        Manila    5  \n3176312        Luzon        Manila    5  \n\n[3176313 rows x 7 columns]",
            "text/html": "<div>\n<style scoped>\n    .dataframe tbody tr th:only-of-type {\n        vertical-align: middle;\n    }\n\n    .dataframe tbody tr th {\n        vertical-align: top;\n    }\n\n    .dataframe thead th {\n        text-align: right;\n    }\n</style>\n<table border=\"1\" class=\"dataframe\">\n  <thead>\n    <tr style=\"text-align: right;\">\n      <th></th>\n      <th>orderid</th>\n      <th>pick</th>\n      <th>1st_deliver_attempt</th>\n      <th>2nd_deliver_attempt</th>\n      <th>buyeraddress</th>\n      <th>selleraddress</th>\n      <th>sla</th>\n    </tr>\n  </thead>\n  <tbody>\n    <tr>\n      <th>0</th>\n      <td>2215676524</td>\n      <td>2020-03-02</td>\n      <td>2020-03-05</td>\n      <td>NaT</td>\n      <td>Manila</td>\n      <td>Manila</td>\n      <td>3</td>\n    </tr>\n    <tr>\n      <th>1</th>\n      <td>2219624609</td>\n      <td>2020-03-04</td>\n      <td>2020-03-06</td>\n      <td>2020-03-10</td>\n      <td>Manila</td>\n      <td>Manila</td>\n      <td>3</td>\n    </tr>\n    <tr>\n      <th>2</th>\n      <td>2220979489</td>\n      <td>2020-03-04</td>\n      <td>2020-03-06</td>\n      <td>NaT</td>\n      <td>Manila</td>\n      <td>Manila</td>\n      <td>3</td>\n    </tr>\n    <tr>\n      <th>3</th>\n      <td>2221066352</td>\n      <td>2020-03-05</td>\n      <td>2020-03-07</td>\n      <td>NaT</td>\n      <td>Manila</td>\n      <td>Manila</td>\n      <td>3</td>\n    </tr>\n    <tr>\n      <th>4</th>\n      <td>2222478803</td>\n      <td>2020-03-04</td>\n      <td>2020-03-06</td>\n      <td>NaT</td>\n      <td>Luzon</td>\n      <td>Manila</td>\n      <td>5</td>\n    </tr>\n    <tr>\n      <th>...</th>\n      <td>...</td>\n      <td>...</td>\n      <td>...</td>\n      <td>...</td>\n      <td>...</td>\n      <td>...</td>\n      <td>...</td>\n    </tr>\n    <tr>\n      <th>3176308</th>\n      <td>31504087640510</td>\n      <td>2020-04-02</td>\n      <td>2020-04-04</td>\n      <td>NaT</td>\n      <td>Manila</td>\n      <td>Manila</td>\n      <td>3</td>\n    </tr>\n    <tr>\n      <th>3176309</th>\n      <td>31504147352227</td>\n      <td>2020-04-03</td>\n      <td>2020-04-06</td>\n      <td>2020-04-07</td>\n      <td>Manila</td>\n      <td>Manila</td>\n      <td>3</td>\n    </tr>\n    <tr>\n      <th>3176310</th>\n      <td>31504462290482</td>\n      <td>2020-04-02</td>\n      <td>2020-04-04</td>\n      <td>NaT</td>\n      <td>Manila</td>\n      <td>Manila</td>\n      <td>3</td>\n    </tr>\n    <tr>\n      <th>3176311</th>\n      <td>31504851495943</td>\n      <td>2020-04-03</td>\n      <td>2020-04-07</td>\n      <td>NaT</td>\n      <td>Luzon</td>\n      <td>Manila</td>\n      <td>5</td>\n    </tr>\n    <tr>\n      <th>3176312</th>\n      <td>31505199116340</td>\n      <td>2020-04-02</td>\n      <td>2020-04-06</td>\n      <td>2020-04-07</td>\n      <td>Luzon</td>\n      <td>Manila</td>\n      <td>5</td>\n    </tr>\n  </tbody>\n</table>\n<p>3176313 rows × 7 columns</p>\n</div>"
          },
          "metadata": {},
          "execution_count": 9
        }
      ]
    },
    {
      "cell_type": "code",
      "metadata": {
        "id": "ueUi9GsBqH6h",
        "colab_type": "code",
        "colab": {
          "base_uri": "https://localhost:8080/",
          "height": 34
        },
        "outputId": "66fc2d87-fe19-4d92-9f2c-524dd9e2be69"
      },
      "source": [
        "holidays = pd.to_datetime(['2020-03-08', '2020-03-15', '2020-03-22', '2020-03-25', '2020-03-29', '2020-03-30', '2020-03-31', '2020-04-05'])\n",
        "\n",
        "def working_days(first, second):\n",
        "    hol = 0\n",
        "    for i in holidays:\n",
        "        if first <= i <= second:\n",
        "            hol += 1\n",
        "    return (second - first).days - hol\n",
        "\n",
        "def solve(row):\n",
        "    orderid, pick, first, second, buyer, seller, sla = row\n",
        "    if (first - pick).days > sla + 5:\n",
        "        return 1\n",
        "    if (first - pick).days > 3 and working_days(pick, first) > sla:\n",
        "        return 1\n",
        "    if pd.isnull(second):\n",
        "        return 0\n",
        "    if (second - first).days <= 3:\n",
        "        return 0\n",
        "    if working_days(first, second) > 3:\n",
        "        return 1\n",
        "    return 0\n",
        "\n",
        "solve(df.iloc[0])"
      ],
      "execution_count": 10,
      "outputs": [
        {
          "output_type": "execute_result",
          "data": {
            "text/plain": "0"
          },
          "metadata": {},
          "execution_count": 10
        }
      ]
    },
    {
      "cell_type": "code",
      "metadata": {
        "id": "Yxv4jqjzqpaM",
        "colab_type": "code",
        "colab": {}
      },
      "source": [
        "df['is_late'] = df.apply(solve, axis=1)"
      ],
      "execution_count": 11,
      "outputs": []
    },
    {
      "cell_type": "code",
      "metadata": {
        "id": "s7Sgt4y0qMpY",
        "colab_type": "code",
        "colab": {}
      },
      "source": [
        "out = df[['orderid', 'is_late']]\n",
        "out.to_csv('submission.csv', index=False)"
      ],
      "execution_count": 12,
      "outputs": []
    },
    {
      "cell_type": "code",
      "metadata": {
        "id": "f5bcuCNhqOKN",
        "colab_type": "code",
        "colab": {
          "base_uri": "https://localhost:8080/",
          "height": 68
        },
        "outputId": "18e0593a-f2b5-427b-8746-4a60c66943ab"
      },
      "source": [
        "out.is_late.value_counts()"
      ],
      "execution_count": 13,
      "outputs": [
        {
          "output_type": "execute_result",
          "data": {
            "text/plain": "0    2413891\n1     762422\nName: is_late, dtype: int64"
          },
          "metadata": {},
          "execution_count": 13
        }
      ]
    }
  ],
  "metadata": {
    "colab": {
      "name": "Logistic",
      "provenance": [],
      "collapsed_sections": []
    },
    "kernelspec": {
      "name": "python3",
      "display_name": "Python 3"
    },
    "widgets": {
      "application/vnd.jupyter.widget-state+json": {
        "c9e422efab0142f5bcb88fc2803b7fb8": {
          "model_module": "@jupyter-widgets/controls",
          "model_name": "HBoxModel",
          "state": {
            "_view_name": "HBoxView",
            "_dom_classes": [],
            "_model_name": "HBoxModel",
            "_view_module": "@jupyter-widgets/controls",
            "_model_module_version": "1.5.0",
            "_view_count": null,
            "_view_module_version": "1.5.0",
            "box_style": "",
            "layout": "IPY_MODEL_26b0664f2a5d4f898eb5735ced969d7f",
            "_model_module": "@jupyter-widgets/controls",
            "children": [
              "IPY_MODEL_2d44fa3db9694d179c04e16a7082d224",
              "IPY_MODEL_43b8c37ab847448eb06a2bca8e403bd8"
            ]
          }
        },
        "26b0664f2a5d4f898eb5735ced969d7f": {
          "model_module": "@jupyter-widgets/base",
          "model_name": "LayoutModel",
          "state": {
            "_view_name": "LayoutView",
            "grid_template_rows": null,
            "right": null,
            "justify_content": null,
            "_view_module": "@jupyter-widgets/base",
            "overflow": null,
            "_model_module_version": "1.2.0",
            "_view_count": null,
            "flex_flow": null,
            "width": null,
            "min_width": null,
            "border": null,
            "align_items": null,
            "bottom": null,
            "_model_module": "@jupyter-widgets/base",
            "top": null,
            "grid_column": null,
            "overflow_y": null,
            "overflow_x": null,
            "grid_auto_flow": null,
            "grid_area": null,
            "grid_template_columns": null,
            "flex": null,
            "_model_name": "LayoutModel",
            "justify_items": null,
            "grid_row": null,
            "max_height": null,
            "align_content": null,
            "visibility": null,
            "align_self": null,
            "height": null,
            "min_height": null,
            "padding": null,
            "grid_auto_rows": null,
            "grid_gap": null,
            "max_width": null,
            "order": null,
            "_view_module_version": "1.2.0",
            "grid_template_areas": null,
            "object_position": null,
            "object_fit": null,
            "grid_auto_columns": null,
            "margin": null,
            "display": null,
            "left": null
          }
        },
        "2d44fa3db9694d179c04e16a7082d224": {
          "model_module": "@jupyter-widgets/controls",
          "model_name": "FloatProgressModel",
          "state": {
            "_view_name": "ProgressView",
            "style": "IPY_MODEL_46651f05e04d4b02958665bbf9177090",
            "_dom_classes": [],
            "description": "100%",
            "_model_name": "FloatProgressModel",
            "bar_style": "success",
            "max": 3,
            "_view_module": "@jupyter-widgets/controls",
            "_model_module_version": "1.5.0",
            "value": 3,
            "_view_count": null,
            "_view_module_version": "1.5.0",
            "orientation": "horizontal",
            "min": 0,
            "description_tooltip": null,
            "_model_module": "@jupyter-widgets/controls",
            "layout": "IPY_MODEL_40cfa25b971d493aa8c827f98d6dbf71"
          }
        },
        "43b8c37ab847448eb06a2bca8e403bd8": {
          "model_module": "@jupyter-widgets/controls",
          "model_name": "HTMLModel",
          "state": {
            "_view_name": "HTMLView",
            "style": "IPY_MODEL_e362c604d30e47dfb90fa17a8a9ddb99",
            "_dom_classes": [],
            "description": "",
            "_model_name": "HTMLModel",
            "placeholder": "​",
            "_view_module": "@jupyter-widgets/controls",
            "_model_module_version": "1.5.0",
            "value": " 3/3 [00:33&lt;00:00, 11.06s/it]",
            "_view_count": null,
            "_view_module_version": "1.5.0",
            "description_tooltip": null,
            "_model_module": "@jupyter-widgets/controls",
            "layout": "IPY_MODEL_0a241a4166704930a2fe788c4672c09b"
          }
        },
        "46651f05e04d4b02958665bbf9177090": {
          "model_module": "@jupyter-widgets/controls",
          "model_name": "ProgressStyleModel",
          "state": {
            "_view_name": "StyleView",
            "_model_name": "ProgressStyleModel",
            "description_width": "initial",
            "_view_module": "@jupyter-widgets/base",
            "_model_module_version": "1.5.0",
            "_view_count": null,
            "_view_module_version": "1.2.0",
            "bar_color": null,
            "_model_module": "@jupyter-widgets/controls"
          }
        },
        "40cfa25b971d493aa8c827f98d6dbf71": {
          "model_module": "@jupyter-widgets/base",
          "model_name": "LayoutModel",
          "state": {
            "_view_name": "LayoutView",
            "grid_template_rows": null,
            "right": null,
            "justify_content": null,
            "_view_module": "@jupyter-widgets/base",
            "overflow": null,
            "_model_module_version": "1.2.0",
            "_view_count": null,
            "flex_flow": null,
            "width": null,
            "min_width": null,
            "border": null,
            "align_items": null,
            "bottom": null,
            "_model_module": "@jupyter-widgets/base",
            "top": null,
            "grid_column": null,
            "overflow_y": null,
            "overflow_x": null,
            "grid_auto_flow": null,
            "grid_area": null,
            "grid_template_columns": null,
            "flex": null,
            "_model_name": "LayoutModel",
            "justify_items": null,
            "grid_row": null,
            "max_height": null,
            "align_content": null,
            "visibility": null,
            "align_self": null,
            "height": null,
            "min_height": null,
            "padding": null,
            "grid_auto_rows": null,
            "grid_gap": null,
            "max_width": null,
            "order": null,
            "_view_module_version": "1.2.0",
            "grid_template_areas": null,
            "object_position": null,
            "object_fit": null,
            "grid_auto_columns": null,
            "margin": null,
            "display": null,
            "left": null
          }
        },
        "e362c604d30e47dfb90fa17a8a9ddb99": {
          "model_module": "@jupyter-widgets/controls",
          "model_name": "DescriptionStyleModel",
          "state": {
            "_view_name": "StyleView",
            "_model_name": "DescriptionStyleModel",
            "description_width": "",
            "_view_module": "@jupyter-widgets/base",
            "_model_module_version": "1.5.0",
            "_view_count": null,
            "_view_module_version": "1.2.0",
            "_model_module": "@jupyter-widgets/controls"
          }
        },
        "0a241a4166704930a2fe788c4672c09b": {
          "model_module": "@jupyter-widgets/base",
          "model_name": "LayoutModel",
          "state": {
            "_view_name": "LayoutView",
            "grid_template_rows": null,
            "right": null,
            "justify_content": null,
            "_view_module": "@jupyter-widgets/base",
            "overflow": null,
            "_model_module_version": "1.2.0",
            "_view_count": null,
            "flex_flow": null,
            "width": null,
            "min_width": null,
            "border": null,
            "align_items": null,
            "bottom": null,
            "_model_module": "@jupyter-widgets/base",
            "top": null,
            "grid_column": null,
            "overflow_y": null,
            "overflow_x": null,
            "grid_auto_flow": null,
            "grid_area": null,
            "grid_template_columns": null,
            "flex": null,
            "_model_name": "LayoutModel",
            "justify_items": null,
            "grid_row": null,
            "max_height": null,
            "align_content": null,
            "visibility": null,
            "align_self": null,
            "height": null,
            "min_height": null,
            "padding": null,
            "grid_auto_rows": null,
            "grid_gap": null,
            "max_width": null,
            "order": null,
            "_view_module_version": "1.2.0",
            "grid_template_areas": null,
            "object_position": null,
            "object_fit": null,
            "grid_auto_columns": null,
            "margin": null,
            "display": null,
            "left": null
          }
        }
      }
    }
  },
  "nbformat": 4,
  "nbformat_minor": 0
}